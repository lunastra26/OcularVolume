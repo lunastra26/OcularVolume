{
 "cells": [
  {
   "cell_type": "markdown",
   "metadata": {},
   "source": [
    "# Automated Globe Prediction in CT images of the Orbits\n",
    "## Axial CT images of the orbits "
   ]
  },
  {
   "cell_type": "code",
   "execution_count": null,
   "metadata": {
    "collapsed": true
   },
   "outputs": [],
   "source": [
    "\"\"\"\n",
    "UNIVERSITY OF ARIZONA\n",
    "Author: Lavanya Umapathy\n",
    "Date: \n",
    "Description: Script to evaluate/test using a saved CNN model. \n",
    "The MRes-UNET2D model uses Axial CT images of the orbits to predict globe masks and quantify globe volumes.\n",
    "\"\"\""
   ]
  },
  {
   "cell_type": "code",
   "execution_count": null,
   "metadata": {
    "collapsed": true
   },
   "outputs": [],
   "source": [
    "from matplotlib import pyplot as plt\n",
    "import time, sys\n",
    "from skimage import measure\n",
    "import Utilities as utils"
   ]
  },
  {
   "cell_type": "code",
   "execution_count": null,
   "metadata": {
    "collapsed": true
   },
   "outputs": [],
   "source": [
    "# path to the saved pre-trained model\n",
    "model_loadPath = '../PretrainedModel/MRes_UNET2D.h5'\n",
    "\n",
    "# path to a dicom directory containing CT images. Replace this with actual data directory\n",
    "dcm_loadPath = '../Data/SubjectFolderName/'\n",
    "\n",
    "output_shape = (512,512)\n",
    "WL = 50  # in hounsfield units, for window level\n",
    "WW = 200  # in hounsfield units, for window width\n",
    "dicom_srchstr = 'IM*'\n",
    "gpu_number = '0'"
   ]
  },
  {
   "cell_type": "code",
   "execution_count": null,
   "metadata": {
    "collapsed": true
   },
   "outputs": [],
   "source": [
    "# load the CT DICOM series into img (Height x Width x Number of Slices)\n",
    "img = utils.loadDicomSeries_sorted(dcmPath,dicom_srchstr)\n",
    "\n",
    "# Get pixel size for volume calculations\n",
    "pixdim = utils.getPixDims_Dicom(dcmPath,dicom_srchstr)\n",
    "\n",
    "# Pre-process CT images of the orbits\n",
    "img  = utils.preProcess_orbitalCT(img,output_shape,WL=WL,WW=WW)"
   ]
  },
  {
   "cell_type": "code",
   "execution_count": null,
   "metadata": {
    "collapsed": true
   },
   "outputs": [],
   "source": [
    "# Load the pretrained MRes-UNET2D model\n",
    "model = utils.loadSavedModel(modelLoadPath,gpu_number)\n",
    "\n",
    "# Predict masks for globes using MRes-UNET2D model\n",
    "start_pred = time.time()\n",
    "predictedGlobes = utils.predictGlobes(model, img)\n",
    "end_pred = time.time()\n",
    "print(\"Time Elapsed prediction in seconds: \",round(end_pred - start_pred,4))"
   ]
  },
  {
   "cell_type": "code",
   "execution_count": null,
   "metadata": {
    "collapsed": true
   },
   "outputs": [],
   "source": [
    "# Display the predicted Globe contours\n",
    "img_idx = 2    # select an image to display the contours on\n",
    "contours_pred = measure.find_contours(predImg[:,:,idx], 0.25)\n",
    "fig, ax = plt.subplots()\n",
    "ax.imshow(img[:,:,idx], interpolation='nearest', cmap=plt.cm.gray)\n",
    "for n, contour in enumerate(contours_pred):\n",
    "    ax.plot(contour[:, 1], contour[:, 0], linewidth=1.5, color='blue')"
   ]
  },
  {
   "cell_type": "code",
   "execution_count": null,
   "metadata": {
    "collapsed": true
   },
   "outputs": [],
   "source": [
    "# Print evaluation stats\n",
    "computeGlobeStats(predictedGlobes,pixdim)"
   ]
  }
 ],
 "metadata": {
  "anaconda-cloud": {},
  "kernelspec": {
   "display_name": "Python [default]",
   "language": "python",
   "name": "python3"
  },
  "language_info": {
   "codemirror_mode": {
    "name": "ipython",
    "version": 3
   },
   "file_extension": ".py",
   "mimetype": "text/x-python",
   "name": "python",
   "nbconvert_exporter": "python",
   "pygments_lexer": "ipython3",
   "version": "3.5.2"
  }
 },
 "nbformat": 4,
 "nbformat_minor": 2
}
