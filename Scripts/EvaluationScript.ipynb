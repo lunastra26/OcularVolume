{
 "cells": [
  {
   "cell_type": "markdown",
   "metadata": {},
   "source": [
    "# Automated Globe Prediction in CT images of the Orbits\n",
    "## Axial CT images of the orbits "
   ]
  },
  {
   "cell_type": "code",
   "execution_count": null,
   "metadata": {},
   "outputs": [],
   "source": [
    "\"\"\"\n",
    "UNIVERSITY OF ARIZONA\n",
    "Author: Lavanya Umapathy\n",
    "Date: \n",
    "Description: Script to evaluate/test using a saved CNN model. \n",
    "The model uses Axial CT images of the orbits to predict globe masks.\n",
    "\"\"\""
   ]
  },
  {
   "cell_type": "code",
   "execution_count": null,
   "metadata": {},
   "outputs": [],
   "source": [
    "from matplotlib import pyplot as plt\n",
    "import time, sys\n",
    "from skimage import measure"
   ]
  },
  {
   "cell_type": "code",
   "execution_count": null,
   "metadata": {},
   "outputs": [],
   "source": [
    "# Add the necessary Utilities \n",
    "utils_dir = \"../Utilities\"\n",
    "if utils_dir not in sys.path:\n",
    "    sys.path.insert(0, utils_dir)\n",
    " \n",
    "import DicomUtilities as utils"
   ]
  },
  {
   "cell_type": "code",
   "execution_count": null,
   "metadata": {},
   "outputs": [],
   "source": [
    "# Set parameters\n",
    "opShape = (512,512)\n",
    "\n",
    "modelLoadPath = './PretrainedModel/MRes_UNET2D.h5'\n",
    "\n",
    "dcmLoadPath = './Data/SubjectFolderName/'\n"
   ]
  },
  {
   "cell_type": "code",
   "execution_count": null,
   "metadata": {},
   "outputs": [],
   "source": [
    "# Load the pretrained MRes-UNET2D model\n",
    "model = utils.loadSavedModel(modelLoadPath)\n",
    "\n",
    "# load the CT DICOM series into img (Width x Height x Number of Slices)\n",
    "img = utils.loadDicomSeries_sorted(dcmPath,'IM*')\n",
    "\n",
    "# Get pixel size for volume calculations\n",
    "pixdim = utils.getPixDims_Dicom(dcmPath,'IM*')\n",
    "\n",
    "# Pre-process CT images of the orbits\n",
    "img  = utils.preProcess_orbitalCT(img,opShape,WL=50,WW=200)"
   ]
  },
  {
   "cell_type": "code",
   "execution_count": null,
   "metadata": {},
   "outputs": [],
   "source": [
    "# Predict masks for globes using MRes-UNET2D model\n",
    "\n",
    "start_pred = time.time()\n",
    "predImg = utils.predictGlobes(model, img)\n",
    "end_pred = time.time()\n",
    "\n",
    "print(\"Time Elapsed prediction in seconds: \",round(end_pred - start_pred,4))"
   ]
  },
  {
   "cell_type": "code",
   "execution_count": null,
   "metadata": {},
   "outputs": [],
   "source": [
    "# Separate the left and the right globes\n",
    "\n",
    "PredVol_L,PredVol_R = utils.findGlobes(predImg)\n",
    "\n",
    "# Print the total globe volume (in mL) (left + right)\n",
    "print('Predicted volume :',round(utils.computeVolumeStats(predImg,pixdim),4), 'mL')\n",
    "\n",
    "# Print the Inter Globe Volume Difference, IGVD = V_L - V_R\n",
    "print('Inter Globe Volume Difference :',round(utils.computeIGVD(predImg,pixdim),4) ,'mL')\n"
   ]
  },
  {
   "cell_type": "code",
   "execution_count": null,
   "metadata": {},
   "outputs": [],
   "source": [
    "# Display the predicted Globe contours\n",
    "\n",
    "img_idx = 2\n",
    "  \n",
    "contours_pred = measure.find_contours(predImg[:,:,idx], 0.25)\n",
    "\n",
    "fig, ax = plt.subplots()\n",
    "ax.imshow(img[:,:,idx], interpolation='nearest', cmap=plt.cm.gray)\n",
    "for n, contour in enumerate(contours_pred):\n",
    "    ax.plot(contour[:, 1], contour[:, 0], linewidth=1.5, color='blue')"
   ]
  }
 ],
 "metadata": {
  "kernelspec": {
   "display_name": "Python 3",
   "language": "python",
   "name": "python3"
  },
  "language_info": {
   "codemirror_mode": {
    "name": "ipython",
    "version": 3
   },
   "file_extension": ".py",
   "mimetype": "text/x-python",
   "name": "python",
   "nbconvert_exporter": "python",
   "pygments_lexer": "ipython3",
   "version": "3.5.5"
  }
 },
 "nbformat": 4,
 "nbformat_minor": 2
}
